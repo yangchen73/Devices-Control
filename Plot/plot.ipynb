{
 "cells": [
  {
   "cell_type": "code",
   "execution_count": 1,
   "metadata": {},
   "outputs": [],
   "source": [
    "import os\n",
    "import pandas as pd  \n",
    "import matplotlib as plt \n",
    "import numpy as np \n",
    "import matplotlib.pyplot as plt\n",
    "from datetime import datetime"
   ]
  },
  {
   "cell_type": "code",
   "execution_count": 3,
   "metadata": {},
   "outputs": [],
   "source": [
    "def read_file(filename, start_row, end_row):\n",
    "    df = pd.read_csv(filename)\n",
    "\n",
    "    if start_row < 0 or end_row > len(df) or start_row >= end_row:\n",
    "        raise ValueError(\"Invalid row indices for the data range.\")\n",
    "    \n",
    "    para1 = df.iloc[start_row:end_row, 1].to_numpy()\n",
    "    para2 = df.iloc[start_row:end_row, 2].to_numpy()\n",
    "    para3 = df.iloc[start_row:end_row, 3].to_numpy()\n",
    "    para4 = df.iloc[start_row:end_row, 4].to_numpy()\n",
    "    para5 = df.iloc[start_row:end_row, 5].to_numpy()\n",
    "    para6 = df.iloc[start_row:end_row, 6].to_numpy()\n",
    "    \n",
    "    return para1, para2, para3, para4, para5, para6"
   ]
  },
  {
   "cell_type": "code",
   "execution_count": 4,
   "metadata": {},
   "outputs": [],
   "source": [
    "def plot_rdt_rate_t(freq, rdt, rate):\n",
    "    \n",
    "    time = np.arange(0, len(rdt) * freq, freq)\n",
    "    fig, ax1 = plt.subplots()\n",
    "    \n",
    "    ax1.plot(time, rdt, 'tab:red', label='Air Inflation')\n",
    "    ax1.set_xlabel('Time')\n",
    "    ax1.set_ylabel('Air Inflation', color='tab:red')\n",
    "    ax1.tick_params(axis='y', labelcolor='tab:red')\n",
    "    ax1.legend(loc='upper left')\n",
    "    \n",
    "    ax2 = ax1.twinx()\n",
    "    \n",
    "    ax2.plot(time, rate, 'tab:blue', label='Flowrate')\n",
    "    ax2.set_ylabel('Flowrate', color='tab:blue')\n",
    "    ax2.tick_params(axis='y', labelcolor='tab:blue')\n",
    "    ax2.legend(loc='upper right')\n",
    "\n",
    "    plt.title('Air Inflation and Flowrate over time')\n",
    "\n",
    "    current_time = datetime.now().strftime(\"%Y%m%d_%H%M%S\")\n",
    "    save_folder = '/home/orangepi/Desktop/pillow/OpenPillow_MicroROS/figure'\n",
    "    save_filename = os.path.join(save_folder, f'Air Inflation and Flowrate over time_{current_time}.png')\n",
    "    plt.savefig(save_filename)\n",
    "\n",
    "    plt.show()"
   ]
  },
  {
   "cell_type": "code",
   "execution_count": null,
   "metadata": {},
   "outputs": [],
   "source": [
    "filename = '/home/orangepi/Desktop/pillow/OpenPillow_MicroROS/data/exp_rdt2h.csv'\n",
    "start_row = 1\n",
    "end_row = 100\n",
    "freq = 0.01 \n",
    "para1, para2, para3, para4, para5, para6 = read_file(filename, start_row, end_row)\n",
    "plot_rdt_rate_t(freq, para2, para3)\n"
   ]
  }
 ],
 "metadata": {
  "kernelspec": {
   "display_name": "base",
   "language": "python",
   "name": "python3"
  },
  "language_info": {
   "codemirror_mode": {
    "name": "ipython",
    "version": 3
   },
   "file_extension": ".py",
   "mimetype": "text/x-python",
   "name": "python",
   "nbconvert_exporter": "python",
   "pygments_lexer": "ipython3",
   "version": "3.11.7"
  }
 },
 "nbformat": 4,
 "nbformat_minor": 2
}
